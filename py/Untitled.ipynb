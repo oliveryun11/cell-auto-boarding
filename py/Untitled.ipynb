{
 "cells": [
  {
   "cell_type": "code",
   "execution_count": 3,
   "metadata": {},
   "outputs": [
    {
     "name": "stdout",
     "output_type": "stream",
     "text": [
      "Using matplotlib backend: MacOSX\n"
     ]
    }
   ],
   "source": [
    "import numpy as np\n",
    "import time\n",
    "import matplotlib.pyplot as plt\n",
    "%matplotlib\n",
    "\n",
    "x = np.linspace(0, 10, 100)\n",
    "y = np.cos(x)\n",
    "\n",
    "plt.ion()\n",
    "\n",
    "figure, ax = plt.subplots(figsize=(8,6))\n",
    "line1, = ax.plot(x, y)\n",
    "\n",
    "plt.title(\"Dynamic Plot of sinx\",fontsize=25)\n",
    "\n",
    "plt.xlabel(\"X\",fontsize=18)\n",
    "plt.ylabel(\"sinX\",fontsize=18)\n",
    "\n",
    "for p in range(100):\n",
    "    updated_y = np.cos(x-0.05*p)\n",
    "    \n",
    "    line1.set_xdata(x)\n",
    "    line1.set_ydata(updated_y)\n",
    "    \n",
    "    figure.canvas.draw()\n",
    "    \n",
    "    figure.canvas.flush_events()\n",
    "    time.sleep(0.1)\n"
   ]
  },
  {
   "cell_type": "code",
   "execution_count": null,
   "metadata": {},
   "outputs": [],
   "source": []
  }
 ],
 "metadata": {
  "kernelspec": {
   "display_name": "Python 3",
   "language": "python",
   "name": "python3"
  },
  "language_info": {
   "codemirror_mode": {
    "name": "ipython",
    "version": 3
   },
   "file_extension": ".py",
   "mimetype": "text/x-python",
   "name": "python",
   "nbconvert_exporter": "python",
   "pygments_lexer": "ipython3",
   "version": "3.8.3"
  }
 },
 "nbformat": 4,
 "nbformat_minor": 4
}
